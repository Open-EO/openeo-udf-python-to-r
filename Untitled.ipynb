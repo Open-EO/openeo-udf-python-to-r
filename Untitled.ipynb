{
 "cells": [
  {
   "cell_type": "code",
   "execution_count": 1,
   "id": "f04031b8-e9e2-4189-af03-ad8209ee27fe",
   "metadata": {},
   "outputs": [
    {
     "name": "stdout",
     "output_type": "stream",
     "text": [
      "\n",
      "     active environment : udf_env\n",
      "    active env location : /home/pzellner@eurac.edu/.conda/envs/udf_env\n",
      "            shell level : 1\n",
      "       user config file : /home/pzellner@eurac.edu/.condarc\n",
      " populated config files : /opt/conda/.condarc\n",
      "                          /home/pzellner@eurac.edu/.condarc\n",
      "          conda version : 4.10.1\n",
      "    conda-build version : not installed\n",
      "         python version : 3.8.10.final.0\n",
      "       virtual packages : __linux=4.15.0=0\n",
      "                          __glibc=2.27=0\n",
      "                          __unix=0=0\n",
      "                          __archspec=1=x86_64\n",
      "       base environment : /opt/conda  (read only)\n",
      "      conda av data dir : /opt/conda/etc/conda\n",
      "  conda av metadata url : https://repo.anaconda.com/pkgs/main\n",
      "           channel URLs : https://conda.anaconda.org/conda-forge/label/dev/linux-64\n",
      "                          https://conda.anaconda.org/conda-forge/label/dev/noarch\n",
      "                          https://repo.anaconda.com/pkgs/main/linux-64\n",
      "                          https://repo.anaconda.com/pkgs/main/noarch\n",
      "                          https://repo.anaconda.com/pkgs/r/linux-64\n",
      "                          https://repo.anaconda.com/pkgs/r/noarch\n",
      "                          https://conda.anaconda.org/conda-forge/linux-64\n",
      "                          https://conda.anaconda.org/conda-forge/noarch\n",
      "          package cache : /opt/conda/pkgs\n",
      "                          /home/pzellner@eurac.edu/.conda/pkgs\n",
      "       envs directories : /home/pzellner@eurac.edu/.conda/envs\n",
      "                          /opt/conda/envs\n",
      "               platform : linux-64\n",
      "             user-agent : conda/4.10.1 requests/2.25.1 CPython/3.8.10 Linux/4.15.0-163-generic ubuntu/18.04.4 glibc/2.27\n",
      "                UID:GID : 1149417947:1149400513\n",
      "             netrc file : /home/pzellner@eurac.edu/.netrc\n",
      "           offline mode : False\n",
      "\n",
      "\n",
      "Note: you may need to restart the kernel to use updated packages.\n"
     ]
    }
   ],
   "source": [
    "conda info"
   ]
  },
  {
   "cell_type": "code",
   "execution_count": 4,
   "id": "a15e7457-35cb-4b93-92a9-305caddeb993",
   "metadata": {},
   "outputs": [],
   "source": [
    "import netCDF4\n",
    "import h5netcdf\n",
    "import xarray"
   ]
  },
  {
   "cell_type": "code",
   "execution_count": 7,
   "id": "fd0260cc-6767-4cc8-a985-be08490d51a6",
   "metadata": {},
   "outputs": [],
   "source": [
    "\n",
    "load_file = \"/mnt/CEPH_PROJECTS/ADO/VHI/r4openeo_uc2_ndvi_mskd.nc\"\n",
    "#xarray.open_dataset(load_file).to_array\n",
    "data = xarray.open_dataset(load_file)\n",
    "data = data.drop('crs')\n",
    "data_array = data.to_array(dim='var')"
   ]
  },
  {
   "cell_type": "code",
   "execution_count": null,
   "id": "7ce627d9-aa0a-4c25-adc8-df17fac0db73",
   "metadata": {},
   "outputs": [],
   "source": [
    "data_array.t\n",
    "data_array[\"t\"] = data_array.t.astype(\"str\")\n",
    "data_array.t"
   ]
  },
  {
   "cell_type": "code",
   "execution_count": 8,
   "id": "b7002633-e52a-4473-be11-e21a12211b88",
   "metadata": {},
   "outputs": [
    {
     "name": "stdout",
     "output_type": "stream",
     "text": [
      "<xarray.DataArray (t: 403, y: 256, x: 256)>\n",
      "array([[[-7.7253217e-03, -1.0318142e-02, -1.1612903e-02, ...,\n",
      "         -2.7297544e-03, -4.5413258e-03, -2.2862370e-03],\n",
      "        [-7.2867554e-03, -8.1510078e-03, -4.2881644e-03, ...,\n",
      "          2.2799817e-03,  0.0000000e+00, -2.7422304e-03],\n",
      "        [-4.2589437e-03, -6.8259384e-03, -2.1340162e-03, ...,\n",
      "         -3.1919745e-03, -4.5413258e-03, -3.6529680e-03],\n",
      "        ...,\n",
      "        [ 2.1321962e-03,  1.4204546e-03,  2.8308562e-03, ...,\n",
      "         -7.7307867e-03, -7.2992700e-03, -6.8274923e-03],\n",
      "        [-1.7711654e-03,  3.5599858e-04,  2.8348689e-03, ...,\n",
      "         -4.0779337e-03, -2.7247956e-03, -4.0927692e-03],\n",
      "        [ 1.0634527e-03,  3.9187744e-03,  1.7711654e-03, ...,\n",
      "          1.8050541e-03,  9.0171327e-04,  1.8148820e-03]],\n",
      "\n",
      "       [[ 5.6821831e-02,  4.8496012e-02,  4.2831648e-02, ...,\n",
      "                    nan,            nan,            nan],\n",
      "        [ 3.9338842e-02,  4.6489261e-02,  5.4443054e-02, ...,\n",
      "                    nan,            nan,            nan],\n",
      "        [ 2.8688524e-02,  3.8295038e-02,  4.7742773e-02, ...,\n",
      "                    nan,            nan,            nan],\n",
      "...\n",
      "        [ 6.2500000e-01,  9.5121950e-01,  9.7826087e-01, ...,\n",
      "                    nan,            nan,            nan],\n",
      "        [ 4.0677965e-01,  5.1898736e-01,  8.5106385e-01, ...,\n",
      "                    nan,            nan,            nan],\n",
      "        [ 3.7078652e-01,  6.3265306e-01,  4.3030304e-01, ...,\n",
      "                    nan,            nan,            nan]],\n",
      "\n",
      "       [[ 5.7678699e-01,  5.0841749e-01,  5.8094180e-01, ...,\n",
      "          8.3585316e-01,  9.1338581e-01,  8.8536954e-01],\n",
      "        [ 3.2914573e-01,  3.2219321e-01,  4.4077450e-01, ...,\n",
      "          8.1948423e-01,  8.9879930e-01,  9.0554720e-01],\n",
      "        [ 3.0199841e-01,  2.3215985e-01,  3.3670643e-01, ...,\n",
      "          8.8625592e-01,  9.3843281e-01,  9.0040815e-01],\n",
      "        ...,\n",
      "        [ 2.8395063e-01,            nan,  9.7183096e-01, ...,\n",
      "         -4.4428468e-02, -4.6093017e-02, -4.0698651e-02],\n",
      "        [-7.3593073e-02,  4.5454547e-01,  7.9710144e-01, ...,\n",
      "         -4.6112116e-02, -4.0328424e-02, -4.4475626e-02],\n",
      "        [ 2.2513089e-01,  2.4742268e-01,  4.4444445e-01, ...,\n",
      "         -3.9654739e-02, -4.4465467e-02, -4.5131445e-02]]], dtype=float32)\n",
      "Coordinates:\n",
      "  * t        (t) <U48 '2016-11-05T00:00:00.000000000' ... '2019-12-30T00:00:0...\n",
      "  * x        (x) float64 6.969e+05 6.969e+05 6.969e+05 ... 6.994e+05 6.994e+05\n",
      "  * y        (y) float64 5.148e+06 5.148e+06 5.148e+06 ... 5.146e+06 5.146e+06\n",
      "Attributes:\n",
      "    Conventions:  CF-1.8\n",
      "    institution:  openEO platform - Geotrellis backend: 0.6.1a1\n",
      "    description:  \n",
      "    title:        \n"
     ]
    }
   ],
   "source": [
    "# custom fun for reading vito results\n",
    "data = xarray.open_dataset(load_file)\n",
    "data = data.drop('crs')\n",
    "data = data.to_array(dim='var')\n",
    "data = data.drop_vars(\"var\")\n",
    "data[\"t\"] = data.t.astype(\"str\")\n",
    "print(data.squeeze(\"var\"))"
   ]
  },
  {
   "cell_type": "code",
   "execution_count": 5,
   "id": "28c14ff0-e0a7-4838-a426-c9f193391546",
   "metadata": {},
   "outputs": [
    {
     "name": "stdout",
     "output_type": "stream",
     "text": [
      "<xarray.DataArray (x: 7400, y: 1000, t: 10, b: 3)>\n",
      "array([[[[7.19148965e-01, 5.95693483e-01, 8.25971387e-01],\n",
      "         [9.44915647e-01, 2.52717360e-01, 8.70150604e-01],\n",
      "         [2.67289128e-01, 2.22078798e-01, 3.06940016e-01],\n",
      "         ...,\n",
      "         [3.41206811e-01, 6.23036705e-01, 3.94164814e-02],\n",
      "         [4.91027035e-01, 9.03367179e-01, 3.67964696e-01],\n",
      "         [4.46860974e-01, 3.81820494e-01, 3.01770405e-01]],\n",
      "\n",
      "        [[1.02938045e-01, 6.47334758e-01, 3.42835322e-01],\n",
      "         [9.91311228e-01, 5.68159661e-01, 4.56177536e-02],\n",
      "         [6.66490863e-01, 2.94186469e-01, 2.58618903e-01],\n",
      "         ...,\n",
      "         [1.35732672e-01, 6.08122497e-02, 5.22299496e-01],\n",
      "         [8.20188446e-01, 4.48063501e-01, 9.43778525e-01],\n",
      "         [3.11946394e-01, 5.10071940e-02, 3.97701446e-01]],\n",
      "\n",
      "        [[2.52937785e-01, 7.03813709e-01, 4.21195080e-01],\n",
      "         [7.23730974e-01, 5.10077609e-01, 6.98828916e-01],\n",
      "         [1.35922916e-01, 5.05554922e-01, 6.15906461e-01],\n",
      "         ...,\n",
      "...\n",
      "         ...,\n",
      "         [5.43583960e-01, 7.71109168e-01, 8.56656940e-02],\n",
      "         [5.60116582e-01, 4.87144722e-01, 2.35254672e-01],\n",
      "         [2.09011000e-01, 2.22742905e-01, 4.23653062e-01]],\n",
      "\n",
      "        [[7.59983842e-01, 1.90677374e-02, 5.04932926e-03],\n",
      "         [2.81351062e-01, 8.02199576e-02, 2.13509733e-01],\n",
      "         [8.38481248e-01, 9.04614567e-01, 4.13419526e-01],\n",
      "         ...,\n",
      "         [5.99179706e-01, 6.75201226e-01, 7.89438514e-01],\n",
      "         [7.63687183e-01, 7.16311921e-01, 4.83914349e-01],\n",
      "         [2.63618660e-01, 2.98287026e-01, 5.85242791e-01]],\n",
      "\n",
      "        [[9.37658025e-01, 6.81607309e-01, 8.25869179e-02],\n",
      "         [7.85769709e-01, 9.64958001e-01, 7.37411549e-01],\n",
      "         [8.52432992e-01, 1.76616463e-01, 9.05894262e-01],\n",
      "         ...,\n",
      "         [3.28800852e-01, 8.74622997e-01, 2.94530307e-01],\n",
      "         [4.72058364e-01, 5.59409577e-01, 2.74043750e-01],\n",
      "         [8.92031805e-01, 5.49247280e-01, 3.32608339e-01]]]])\n",
      "Coordinates:\n",
      "  * x        (x) int64 0 1 2 3 4 5 6 7 ... 7393 7394 7395 7396 7397 7398 7399\n",
      "  * y        (y) int64 0 1 2 3 4 5 6 7 8 ... 991 992 993 994 995 996 997 998 999\n",
      "  * t        (t) <U20 '2020-01-01T00:00:00Z' ... '2020-01-10T00:00:00Z'\n",
      "  * b        (b) <U2 'b1' 'b2' 'b3'\n"
     ]
    }
   ],
   "source": [
    "from udf_lib import execute_udf, create_dummy_cube\n",
    "import time\n",
    "\n",
    "# Data Cube config\n",
    "dims = ['x', 'y', 't', 'b']\n",
    "sizes = [7400, 1000, 10, 3]\n",
    "labels = {\n",
    "    # x and y get generated automatically for now (todo: get from actual data)\n",
    "    'x': None,\n",
    "    'y': None,\n",
    "    't': ['2020-01-01T00:00:00Z', '2020-01-02T00:00:00Z', '2020-01-03T00:00:00Z', '2020-01-04T00:00:00Z', '2020-01-05T00:00:00Z', '2020-01-06T00:00:00Z', '2020-01-07T00:00:00Z', '2020-01-08T00:00:00Z', '2020-01-09T00:00:00Z', '2020-01-10T00:00:00Z'],\n",
    "    'b': ['b1', 'b2', 'b3']\n",
    "}\n",
    "parallelize = True\n",
    "chunk_size = 2000\n",
    "\n",
    "# Prepare data\n",
    "data = create_dummy_cube(dims, sizes, labels)\n",
    "print(data)"
   ]
  },
  {
   "cell_type": "code",
   "execution_count": null,
   "id": "11278ace-79e2-40e5-87bc-dc9ad4173e1c",
   "metadata": {},
   "outputs": [],
   "source": []
  }
 ],
 "metadata": {
  "kernelspec": {
   "display_name": "Python 3 (ipykernel)",
   "language": "python",
   "name": "python3"
  },
  "language_info": {
   "codemirror_mode": {
    "name": "ipython",
    "version": 3
   },
   "file_extension": ".py",
   "mimetype": "text/x-python",
   "name": "python",
   "nbconvert_exporter": "python",
   "pygments_lexer": "ipython3",
   "version": "3.7.12"
  }
 },
 "nbformat": 4,
 "nbformat_minor": 5
}
